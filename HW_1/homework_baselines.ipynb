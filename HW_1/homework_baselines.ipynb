{
 "cells": [
  {
   "cell_type": "code",
   "execution_count": 2,
   "id": "9030c990",
   "metadata": {},
   "outputs": [],
   "source": [
    "import pandas as pd\n",
    "import numpy as np\n",
    "\n",
    "from sklearn.model_selection import train_test_split\n",
    "from sklearn.metrics import *"
   ]
  },
  {
   "cell_type": "markdown",
   "id": "03b1075d",
   "metadata": {},
   "source": [
    "Sample dummy submission:"
   ]
  },
  {
   "cell_type": "code",
   "execution_count": 114,
   "id": "f20b688e",
   "metadata": {},
   "outputs": [],
   "source": [
    "train = pd.read_csv('train_data.csv')\n",
    "test = pd.read_csv('test_data.csv')"
   ]
  },
  {
   "cell_type": "markdown",
   "id": "4d26ea8d",
   "metadata": {},
   "source": [
    "File with answers:"
   ]
  },
  {
   "cell_type": "code",
   "execution_count": 115,
   "id": "c049a727",
   "metadata": {},
   "outputs": [],
   "source": [
    "y_test = pd.read_csv('test_data_labels.csv')"
   ]
  },
  {
   "cell_type": "code",
   "execution_count": 117,
   "id": "60db0a26",
   "metadata": {},
   "outputs": [
    {
     "data": {
      "text/html": [
       "<div>\n",
       "<style scoped>\n",
       "    .dataframe tbody tr th:only-of-type {\n",
       "        vertical-align: middle;\n",
       "    }\n",
       "\n",
       "    .dataframe tbody tr th {\n",
       "        vertical-align: top;\n",
       "    }\n",
       "\n",
       "    .dataframe thead th {\n",
       "        text-align: right;\n",
       "    }\n",
       "</style>\n",
       "<table border=\"1\" class=\"dataframe\">\n",
       "  <thead>\n",
       "    <tr style=\"text-align: right;\">\n",
       "      <th></th>\n",
       "      <th>comment_id</th>\n",
       "      <th>toxic</th>\n",
       "    </tr>\n",
       "  </thead>\n",
       "  <tbody>\n",
       "    <tr>\n",
       "      <th>2930</th>\n",
       "      <td>2930</td>\n",
       "      <td>0</td>\n",
       "    </tr>\n",
       "  </tbody>\n",
       "</table>\n",
       "</div>"
      ],
      "text/plain": [
       "      comment_id  toxic\n",
       "2930        2930      0"
      ]
     },
     "execution_count": 117,
     "metadata": {},
     "output_type": "execute_result"
    }
   ],
   "source": [
    "y_test.sample()"
   ]
  },
  {
   "cell_type": "code",
   "execution_count": 129,
   "id": "0669e67d",
   "metadata": {},
   "outputs": [],
   "source": [
    "y_test = list(y_test['toxic'])"
   ]
  },
  {
   "cell_type": "code",
   "execution_count": 109,
   "id": "131258a1",
   "metadata": {},
   "outputs": [
    {
     "data": {
      "text/html": [
       "<div>\n",
       "<style scoped>\n",
       "    .dataframe tbody tr th:only-of-type {\n",
       "        vertical-align: middle;\n",
       "    }\n",
       "\n",
       "    .dataframe tbody tr th {\n",
       "        vertical-align: top;\n",
       "    }\n",
       "\n",
       "    .dataframe thead th {\n",
       "        text-align: right;\n",
       "    }\n",
       "</style>\n",
       "<table border=\"1\" class=\"dataframe\">\n",
       "  <thead>\n",
       "    <tr style=\"text-align: right;\">\n",
       "      <th></th>\n",
       "      <th>comment_id</th>\n",
       "      <th>toxic</th>\n",
       "    </tr>\n",
       "  </thead>\n",
       "  <tbody>\n",
       "    <tr>\n",
       "      <th>0</th>\n",
       "      <td>0</td>\n",
       "      <td>0</td>\n",
       "    </tr>\n",
       "    <tr>\n",
       "      <th>1</th>\n",
       "      <td>1</td>\n",
       "      <td>1</td>\n",
       "    </tr>\n",
       "    <tr>\n",
       "      <th>2</th>\n",
       "      <td>2</td>\n",
       "      <td>0</td>\n",
       "    </tr>\n",
       "    <tr>\n",
       "      <th>3</th>\n",
       "      <td>3</td>\n",
       "      <td>1</td>\n",
       "    </tr>\n",
       "    <tr>\n",
       "      <th>4</th>\n",
       "      <td>4</td>\n",
       "      <td>1</td>\n",
       "    </tr>\n",
       "  </tbody>\n",
       "</table>\n",
       "</div>"
      ],
      "text/plain": [
       "   comment_id  toxic\n",
       "0           0      0\n",
       "1           1      1\n",
       "2           2      0\n",
       "3           3      1\n",
       "4           4      1"
      ]
     },
     "execution_count": 109,
     "metadata": {},
     "output_type": "execute_result"
    }
   ],
   "source": [
    "sample_submission = [[i, randint(0,1)] for i in range(len(test))]\n",
    "sample_submission = pd.DataFrame(sample_submission, columns=['comment_id', 'toxic'])\n",
    "\n",
    "sample_submission.head()"
   ]
  },
  {
   "cell_type": "code",
   "execution_count": 84,
   "id": "e0574dbb",
   "metadata": {},
   "outputs": [],
   "source": [
    "sample_submission.to_csv('sample_submission.csv', index=False)"
   ]
  },
  {
   "cell_type": "code",
   "execution_count": 112,
   "id": "7d489405",
   "metadata": {},
   "outputs": [],
   "source": [
    "train['toxic'] = train.toxic.astype(int)"
   ]
  },
  {
   "cell_type": "code",
   "execution_count": 118,
   "id": "9d5782de",
   "metadata": {},
   "outputs": [],
   "source": [
    "y_train = train['toxic']"
   ]
  },
  {
   "cell_type": "markdown",
   "id": "e02e2872",
   "metadata": {},
   "source": [
    "##  baseline 1: no preprocessing + bow -> 4"
   ]
  },
  {
   "cell_type": "code",
   "execution_count": 73,
   "id": "27a39c66",
   "metadata": {},
   "outputs": [],
   "source": [
    "from sklearn.linear_model import LogisticRegression \n",
    "from sklearn.feature_extraction.text import CountVectorizer"
   ]
  },
  {
   "cell_type": "code",
   "execution_count": 65,
   "id": "71457098",
   "metadata": {},
   "outputs": [],
   "source": [
    "text = ['april, boo boo ceph', 'demon - april ceph i']"
   ]
  },
  {
   "cell_type": "code",
   "execution_count": 50,
   "id": "3d3c42aa",
   "metadata": {},
   "outputs": [
    {
     "name": "stdout",
     "output_type": "stream",
     "text": [
      "\\6\n"
     ]
    }
   ],
   "source": [
    "print('\\\\6')"
   ]
  },
  {
   "cell_type": "code",
   "execution_count": 91,
   "id": "2a77a0ad",
   "metadata": {},
   "outputs": [],
   "source": [
    "vec = CountVectorizer(ngram_range=(1, 1), token_pattern='\\w{3,}') # строим BoW для слов"
   ]
  },
  {
   "cell_type": "code",
   "execution_count": 76,
   "id": "a1b06944",
   "metadata": {},
   "outputs": [],
   "source": [
    "#help(CountVectorizer)"
   ]
  },
  {
   "cell_type": "code",
   "execution_count": 67,
   "id": "949da5a2",
   "metadata": {
    "scrolled": true
   },
   "outputs": [
    {
     "data": {
      "text/plain": [
       "CountVectorizer(token_pattern='\\\\w+')"
      ]
     },
     "execution_count": 67,
     "metadata": {},
     "output_type": "execute_result"
    }
   ],
   "source": [
    "vec.fit(text)"
   ]
  },
  {
   "cell_type": "code",
   "execution_count": 68,
   "id": "533c38f5",
   "metadata": {},
   "outputs": [
    {
     "data": {
      "text/plain": [
       "dict_keys(['april', 'boo', 'ceph', 'demon', 'i'])"
      ]
     },
     "execution_count": 68,
     "metadata": {},
     "output_type": "execute_result"
    }
   ],
   "source": [
    "vec.vocabulary_.keys()"
   ]
  },
  {
   "cell_type": "code",
   "execution_count": 69,
   "id": "0382db55",
   "metadata": {},
   "outputs": [
    {
     "data": {
      "text/plain": [
       "5"
      ]
     },
     "execution_count": 69,
     "metadata": {},
     "output_type": "execute_result"
    }
   ],
   "source": [
    "len(vec.vocabulary_.keys())"
   ]
  },
  {
   "cell_type": "code",
   "execution_count": 70,
   "id": "7b030759",
   "metadata": {},
   "outputs": [
    {
     "data": {
      "text/plain": [
       "<2x5 sparse matrix of type '<class 'numpy.int64'>'\n",
       "\twith 7 stored elements in Compressed Sparse Row format>"
      ]
     },
     "execution_count": 70,
     "metadata": {},
     "output_type": "execute_result"
    }
   ],
   "source": [
    "bow = vec.transform(text)\n",
    "bow"
   ]
  },
  {
   "cell_type": "code",
   "execution_count": 71,
   "id": "a39ea513",
   "metadata": {},
   "outputs": [
    {
     "name": "stdout",
     "output_type": "stream",
     "text": [
      "['april, boo boo ceph', 'demon - april ceph i']\n"
     ]
    }
   ],
   "source": [
    "print(text)"
   ]
  },
  {
   "cell_type": "code",
   "execution_count": 72,
   "id": "3e2522ce",
   "metadata": {
    "scrolled": true
   },
   "outputs": [
    {
     "data": {
      "text/plain": [
       "array([[1, 2, 1, 0, 0],\n",
       "       [1, 0, 1, 1, 1]])"
      ]
     },
     "execution_count": 72,
     "metadata": {},
     "output_type": "execute_result"
    }
   ],
   "source": [
    "bow.toarray()"
   ]
  },
  {
   "cell_type": "code",
   "execution_count": 10,
   "id": "0b4884d3",
   "metadata": {},
   "outputs": [
    {
     "data": {
      "text/plain": [
       "(1, 1)"
      ]
     },
     "execution_count": 10,
     "metadata": {},
     "output_type": "execute_result"
    }
   ],
   "source": [
    "vec.ngram_range"
   ]
  },
  {
   "cell_type": "code",
   "execution_count": 8,
   "id": "1f331d16",
   "metadata": {},
   "outputs": [],
   "source": [
    "#help(CountVectorizer)"
   ]
  },
  {
   "cell_type": "code",
   "execution_count": 74,
   "id": "284276bb",
   "metadata": {},
   "outputs": [
    {
     "data": {
      "text/html": [
       "<div>\n",
       "<style scoped>\n",
       "    .dataframe tbody tr th:only-of-type {\n",
       "        vertical-align: middle;\n",
       "    }\n",
       "\n",
       "    .dataframe tbody tr th {\n",
       "        vertical-align: top;\n",
       "    }\n",
       "\n",
       "    .dataframe thead th {\n",
       "        text-align: right;\n",
       "    }\n",
       "</style>\n",
       "<table border=\"1\" class=\"dataframe\">\n",
       "  <thead>\n",
       "    <tr style=\"text-align: right;\">\n",
       "      <th></th>\n",
       "      <th>comment</th>\n",
       "      <th>toxic</th>\n",
       "    </tr>\n",
       "  </thead>\n",
       "  <tbody>\n",
       "    <tr>\n",
       "      <th>0</th>\n",
       "      <td>Преступление и наказание\\n</td>\n",
       "      <td>0.0</td>\n",
       "    </tr>\n",
       "    <tr>\n",
       "      <th>1</th>\n",
       "      <td>И именно эти неработающие весы показывают, что...</td>\n",
       "      <td>0.0</td>\n",
       "    </tr>\n",
       "    <tr>\n",
       "      <th>2</th>\n",
       "      <td>В Японии такие панельки, ебанько.\\n</td>\n",
       "      <td>0.0</td>\n",
       "    </tr>\n",
       "    <tr>\n",
       "      <th>3</th>\n",
       "      <td>Еще у нас выявляют трещины с помощью белой кра...</td>\n",
       "      <td>0.0</td>\n",
       "    </tr>\n",
       "    <tr>\n",
       "      <th>4</th>\n",
       "      <td>Дочитал до поезда в Норильск , дальше не стал\\n</td>\n",
       "      <td>0.0</td>\n",
       "    </tr>\n",
       "    <tr>\n",
       "      <th>...</th>\n",
       "      <td>...</td>\n",
       "      <td>...</td>\n",
       "    </tr>\n",
       "    <tr>\n",
       "      <th>10804</th>\n",
       "      <td>А у мамы в группе до самого выпуска из сада та...</td>\n",
       "      <td>0.0</td>\n",
       "    </tr>\n",
       "    <tr>\n",
       "      <th>10805</th>\n",
       "      <td>Сука тупой дегенарт. Вот на эти видео. Съеби у...</td>\n",
       "      <td>1.0</td>\n",
       "    </tr>\n",
       "    <tr>\n",
       "      <th>10806</th>\n",
       "      <td>В племенах украинцев, особенно западных, с дет...</td>\n",
       "      <td>1.0</td>\n",
       "    </tr>\n",
       "    <tr>\n",
       "      <th>10807</th>\n",
       "      <td>Пост про жадность, о том, как человек оплативш...</td>\n",
       "      <td>0.0</td>\n",
       "    </tr>\n",
       "    <tr>\n",
       "      <th>10808</th>\n",
       "      <td>Это не компенсация проезда к месту отдыха - он...</td>\n",
       "      <td>0.0</td>\n",
       "    </tr>\n",
       "  </tbody>\n",
       "</table>\n",
       "<p>10809 rows × 2 columns</p>\n",
       "</div>"
      ],
      "text/plain": [
       "                                                 comment  toxic\n",
       "0                             Преступление и наказание\\n    0.0\n",
       "1      И именно эти неработающие весы показывают, что...    0.0\n",
       "2                    В Японии такие панельки, ебанько.\\n    0.0\n",
       "3      Еще у нас выявляют трещины с помощью белой кра...    0.0\n",
       "4        Дочитал до поезда в Норильск , дальше не стал\\n    0.0\n",
       "...                                                  ...    ...\n",
       "10804  А у мамы в группе до самого выпуска из сада та...    0.0\n",
       "10805  Сука тупой дегенарт. Вот на эти видео. Съеби у...    1.0\n",
       "10806  В племенах украинцев, особенно западных, с дет...    1.0\n",
       "10807  Пост про жадность, о том, как человек оплативш...    0.0\n",
       "10808  Это не компенсация проезда к месту отдыха - он...    0.0\n",
       "\n",
       "[10809 rows x 2 columns]"
      ]
     },
     "execution_count": 74,
     "metadata": {},
     "output_type": "execute_result"
    }
   ],
   "source": [
    "train"
   ]
  },
  {
   "cell_type": "code",
   "execution_count": null,
   "id": "cad6f470",
   "metadata": {},
   "outputs": [],
   "source": [
    "C"
   ]
  },
  {
   "cell_type": "code",
   "execution_count": 92,
   "id": "ceb7fddd",
   "metadata": {},
   "outputs": [],
   "source": [
    "bow = vec.fit_transform(train['comment'])"
   ]
  },
  {
   "cell_type": "code",
   "execution_count": 93,
   "id": "55ce9d6d",
   "metadata": {},
   "outputs": [
    {
     "data": {
      "text/plain": [
       "<10809x55942 sparse matrix of type '<class 'numpy.int64'>'\n",
       "\twith 210108 stored elements in Compressed Sparse Row format>"
      ]
     },
     "execution_count": 93,
     "metadata": {},
     "output_type": "execute_result"
    }
   ],
   "source": [
    "bow"
   ]
  },
  {
   "cell_type": "code",
   "execution_count": 84,
   "id": "88082337",
   "metadata": {},
   "outputs": [
    {
     "name": "stdout",
     "output_type": "stream",
     "text": [
      "А у мамы в группе до самого выпуска из сада такие просяки нет-нет, да случаются, с разными детьми. Только для одних детей это разовая акция, у других - время от времени, а у третьих - частенько. И родители прекрасно в курсе особенностей каждого конкретного ребенка.\n",
      "\n"
     ]
    }
   ],
   "source": [
    "print(train.comment[10804])"
   ]
  },
  {
   "cell_type": "code",
   "execution_count": 79,
   "id": "62211fe4",
   "metadata": {},
   "outputs": [
    {
     "data": {
      "text/plain": [
       "[('преступление', 37597),\n",
       " ('и', 16431),\n",
       " ('наказание', 25325),\n",
       " ('именно', 16939),\n",
       " ('эти', 56202),\n",
       " ('неработающие', 27074),\n",
       " ('весы', 6263),\n",
       " ('показывают', 35049),\n",
       " ('что', 54896),\n",
       " ('работающих', 40452)]"
      ]
     },
     "execution_count": 79,
     "metadata": {},
     "output_type": "execute_result"
    }
   ],
   "source": [
    "list(vec.vocabulary_.items())[:10]"
   ]
  },
  {
   "cell_type": "code",
   "execution_count": 88,
   "id": "bd6c6604",
   "metadata": {},
   "outputs": [
    {
     "data": {
      "text/plain": [
       "[('0', 0),\n",
       " ('00', 1),\n",
       " ('000', 2),\n",
       " ('0015', 3),\n",
       " ('003', 4),\n",
       " ('0036', 5),\n",
       " ('005', 6),\n",
       " ('00х', 7),\n",
       " ('01', 8),\n",
       " ('013', 9)]"
      ]
     },
     "execution_count": 88,
     "metadata": {},
     "output_type": "execute_result"
    }
   ],
   "source": [
    "sorted(list(vec.vocabulary_.items()), key=lambda x: x[0])[:10]"
   ]
  },
  {
   "cell_type": "code",
   "execution_count": 87,
   "id": "fea6341f",
   "metadata": {},
   "outputs": [],
   "source": [
    "#list(vec.vocabulary_.keys())"
   ]
  },
  {
   "cell_type": "code",
   "execution_count": 80,
   "id": "406ba520",
   "metadata": {},
   "outputs": [
    {
     "data": {
      "text/plain": [
       "56619"
      ]
     },
     "execution_count": 80,
     "metadata": {},
     "output_type": "execute_result"
    }
   ],
   "source": [
    "len(vec.vocabulary_.items())"
   ]
  },
  {
   "cell_type": "code",
   "execution_count": 97,
   "id": "fe2b33cc",
   "metadata": {
    "scrolled": true
   },
   "outputs": [
    {
     "data": {
      "text/plain": [
       "0        0\n",
       "1        0\n",
       "2        0\n",
       "3        0\n",
       "4        0\n",
       "        ..\n",
       "10804    0\n",
       "10805    1\n",
       "10806    1\n",
       "10807    0\n",
       "10808    0\n",
       "Name: toxic, Length: 10809, dtype: int64"
      ]
     },
     "execution_count": 97,
     "metadata": {},
     "output_type": "execute_result"
    }
   ],
   "source": [
    "y_train = train['toxic'].astype(int)\n",
    "y_train"
   ]
  },
  {
   "cell_type": "code",
   "execution_count": 101,
   "id": "595dc253",
   "metadata": {},
   "outputs": [],
   "source": [
    "#help(clf.fit)"
   ]
  },
  {
   "cell_type": "code",
   "execution_count": 102,
   "id": "1c0b19df",
   "metadata": {},
   "outputs": [
    {
     "data": {
      "text/plain": [
       "LogisticRegression(max_iter=500, random_state=42)"
      ]
     },
     "execution_count": 102,
     "metadata": {},
     "output_type": "execute_result"
    }
   ],
   "source": [
    "clf = LogisticRegression(random_state=42, max_iter=500) #\n",
    "clf.fit(bow, y_train)"
   ]
  },
  {
   "cell_type": "code",
   "execution_count": 105,
   "id": "9a8950b4",
   "metadata": {},
   "outputs": [
    {
     "data": {
      "text/plain": [
       "55942"
      ]
     },
     "execution_count": 105,
     "metadata": {},
     "output_type": "execute_result"
    }
   ],
   "source": [
    "len(clf.coef_[0])"
   ]
  },
  {
   "cell_type": "code",
   "execution_count": 107,
   "id": "5533eadd",
   "metadata": {},
   "outputs": [
    {
     "data": {
      "text/plain": [
       "<3603x55942 sparse matrix of type '<class 'numpy.int64'>'\n",
       "\twith 59233 stored elements in Compressed Sparse Row format>"
      ]
     },
     "execution_count": 107,
     "metadata": {},
     "output_type": "execute_result"
    }
   ],
   "source": [
    "bow_test = vec.transform(test['comment'])\n",
    "bow_test"
   ]
  },
  {
   "cell_type": "code",
   "execution_count": 109,
   "id": "066d598f",
   "metadata": {},
   "outputs": [
    {
     "data": {
      "text/plain": [
       "array([0, 0, 0, 0, 0, 0, 0, 0, 1, 0])"
      ]
     },
     "execution_count": 109,
     "metadata": {},
     "output_type": "execute_result"
    }
   ],
   "source": [
    "pred = clf.predict(bow_test)\n",
    "pred[:10]"
   ]
  },
  {
   "cell_type": "code",
   "execution_count": 112,
   "id": "fa7d7077",
   "metadata": {},
   "outputs": [
    {
     "data": {
      "text/html": [
       "<div>\n",
       "<style scoped>\n",
       "    .dataframe tbody tr th:only-of-type {\n",
       "        vertical-align: middle;\n",
       "    }\n",
       "\n",
       "    .dataframe tbody tr th {\n",
       "        vertical-align: top;\n",
       "    }\n",
       "\n",
       "    .dataframe thead th {\n",
       "        text-align: right;\n",
       "    }\n",
       "</style>\n",
       "<table border=\"1\" class=\"dataframe\">\n",
       "  <thead>\n",
       "    <tr style=\"text-align: right;\">\n",
       "      <th></th>\n",
       "      <th>comment_id</th>\n",
       "      <th>comment</th>\n",
       "    </tr>\n",
       "  </thead>\n",
       "  <tbody>\n",
       "    <tr>\n",
       "      <th>0</th>\n",
       "      <td>0</td>\n",
       "      <td>В данном случае не пионервожатая, а техничка, ...</td>\n",
       "    </tr>\n",
       "    <tr>\n",
       "      <th>1</th>\n",
       "      <td>1</td>\n",
       "      <td>В данном посте рассматривается обычный ленточн...</td>\n",
       "    </tr>\n",
       "    <tr>\n",
       "      <th>2</th>\n",
       "      <td>2</td>\n",
       "      <td>Как я понимаю, у поверхностей отражаемость пог...</td>\n",
       "    </tr>\n",
       "    <tr>\n",
       "      <th>3</th>\n",
       "      <td>3</td>\n",
       "      <td>Австралийские пауки съедят все живое на планете))</td>\n",
       "    </tr>\n",
       "    <tr>\n",
       "      <th>4</th>\n",
       "      <td>4</td>\n",
       "      <td>У нас раньше Амур пиво целые бутылки принимал ...</td>\n",
       "    </tr>\n",
       "    <tr>\n",
       "      <th>...</th>\n",
       "      <td>...</td>\n",
       "      <td>...</td>\n",
       "    </tr>\n",
       "    <tr>\n",
       "      <th>3598</th>\n",
       "      <td>3598</td>\n",
       "      <td>Я всё жду, когда эта херня закончится\\n</td>\n",
       "    </tr>\n",
       "    <tr>\n",
       "      <th>3599</th>\n",
       "      <td>3599</td>\n",
       "      <td>Откуда такой акцент на Москве? У нас между про...</td>\n",
       "    </tr>\n",
       "    <tr>\n",
       "      <th>3600</th>\n",
       "      <td>3600</td>\n",
       "      <td>Кого угодно, но не этих двух отбросов: свинью ...</td>\n",
       "    </tr>\n",
       "    <tr>\n",
       "      <th>3601</th>\n",
       "      <td>3601</td>\n",
       "      <td>А как же радиоуправляемые машинки в клубах?\\n</td>\n",
       "    </tr>\n",
       "    <tr>\n",
       "      <th>3602</th>\n",
       "      <td>3602</td>\n",
       "      <td>Правильно. Кз 10 и версия драйверов 10.х без э...</td>\n",
       "    </tr>\n",
       "  </tbody>\n",
       "</table>\n",
       "<p>3603 rows × 2 columns</p>\n",
       "</div>"
      ],
      "text/plain": [
       "      comment_id                                            comment\n",
       "0              0  В данном случае не пионервожатая, а техничка, ...\n",
       "1              1  В данном посте рассматривается обычный ленточн...\n",
       "2              2  Как я понимаю, у поверхностей отражаемость пог...\n",
       "3              3  Австралийские пауки съедят все живое на планете))\n",
       "4              4  У нас раньше Амур пиво целые бутылки принимал ...\n",
       "...          ...                                                ...\n",
       "3598        3598            Я всё жду, когда эта херня закончится\\n\n",
       "3599        3599  Откуда такой акцент на Москве? У нас между про...\n",
       "3600        3600  Кого угодно, но не этих двух отбросов: свинью ...\n",
       "3601        3601      А как же радиоуправляемые машинки в клубах?\\n\n",
       "3602        3602  Правильно. Кз 10 и версия драйверов 10.х без э...\n",
       "\n",
       "[3603 rows x 2 columns]"
      ]
     },
     "execution_count": 112,
     "metadata": {},
     "output_type": "execute_result"
    }
   ],
   "source": [
    "test"
   ]
  },
  {
   "cell_type": "code",
   "execution_count": 116,
   "id": "0315c21c",
   "metadata": {},
   "outputs": [
    {
     "name": "stdout",
     "output_type": "stream",
     "text": [
      "              precision    recall  f1-score   support\n",
      "\n",
      "           0       0.94      0.84      0.89      2651\n",
      "           1       0.66      0.84      0.74       952\n",
      "\n",
      "    accuracy                           0.84      3603\n",
      "   macro avg       0.80      0.84      0.81      3603\n",
      "weighted avg       0.86      0.84      0.85      3603\n",
      "\n"
     ]
    }
   ],
   "source": [
    "print(classification_report(pred, y_test['toxic']))"
   ]
  },
  {
   "cell_type": "code",
   "execution_count": 119,
   "id": "aef06e5b",
   "metadata": {},
   "outputs": [
    {
     "data": {
      "text/plain": [
       "0.8434637801831807"
      ]
     },
     "execution_count": 119,
     "metadata": {},
     "output_type": "execute_result"
    }
   ],
   "source": [
    "from sklearn.metrics import accuracy_score\n",
    "\n",
    "accuracy_score(pred, y_test['toxic'])"
   ]
  },
  {
   "cell_type": "code",
   "execution_count": 90,
   "id": "2675f038",
   "metadata": {},
   "outputs": [
    {
     "data": {
      "text/html": [
       "<div>\n",
       "<style scoped>\n",
       "    .dataframe tbody tr th:only-of-type {\n",
       "        vertical-align: middle;\n",
       "    }\n",
       "\n",
       "    .dataframe tbody tr th {\n",
       "        vertical-align: top;\n",
       "    }\n",
       "\n",
       "    .dataframe thead th {\n",
       "        text-align: right;\n",
       "    }\n",
       "</style>\n",
       "<table border=\"1\" class=\"dataframe\">\n",
       "  <thead>\n",
       "    <tr style=\"text-align: right;\">\n",
       "      <th></th>\n",
       "      <th>comment_id</th>\n",
       "      <th>toxic</th>\n",
       "    </tr>\n",
       "  </thead>\n",
       "  <tbody>\n",
       "    <tr>\n",
       "      <th>0</th>\n",
       "      <td>0</td>\n",
       "      <td>0</td>\n",
       "    </tr>\n",
       "    <tr>\n",
       "      <th>1</th>\n",
       "      <td>1</td>\n",
       "      <td>0</td>\n",
       "    </tr>\n",
       "    <tr>\n",
       "      <th>2</th>\n",
       "      <td>2</td>\n",
       "      <td>0</td>\n",
       "    </tr>\n",
       "    <tr>\n",
       "      <th>3</th>\n",
       "      <td>3</td>\n",
       "      <td>0</td>\n",
       "    </tr>\n",
       "    <tr>\n",
       "      <th>4</th>\n",
       "      <td>4</td>\n",
       "      <td>0</td>\n",
       "    </tr>\n",
       "  </tbody>\n",
       "</table>\n",
       "</div>"
      ],
      "text/plain": [
       "   comment_id  toxic\n",
       "0           0      0\n",
       "1           1      0\n",
       "2           2      0\n",
       "3           3      0\n",
       "4           4      0"
      ]
     },
     "execution_count": 90,
     "metadata": {},
     "output_type": "execute_result"
    }
   ],
   "source": [
    "baseline_4 = [[i, pred[i]] for i in range(len(test))]\n",
    "baseline_4 = pd.DataFrame(baseline_4, columns=['comment_id', 'toxic'])\n",
    "\n",
    "baseline_4.head()"
   ]
  },
  {
   "cell_type": "code",
   "execution_count": 92,
   "id": "c11adf11",
   "metadata": {},
   "outputs": [],
   "source": [
    "baseline_4.to_csv('baseline_4.csv', index=False)"
   ]
  },
  {
   "cell_type": "markdown",
   "id": "8aa5c4b1",
   "metadata": {},
   "source": [
    "## baseline 2: preprocessing + bow -> 5"
   ]
  },
  {
   "cell_type": "code",
   "execution_count": 122,
   "id": "4a75b52c",
   "metadata": {},
   "outputs": [],
   "source": [
    "from sklearn.feature_extraction.text import TfidfVectorizer"
   ]
  },
  {
   "cell_type": "code",
   "execution_count": 121,
   "id": "ad514542",
   "metadata": {
    "collapsed": true
   },
   "outputs": [
    {
     "name": "stdout",
     "output_type": "stream",
     "text": [
      "Collecting pymorphy2\n",
      "  Downloading pymorphy2-0.9.1-py3-none-any.whl (55 kB)\n",
      "\u001b[K     |████████████████████████████████| 55 kB 1.2 MB/s eta 0:00:01\n",
      "\u001b[?25hCollecting pymorphy2-dicts-ru<3.0,>=2.4\n",
      "  Downloading pymorphy2_dicts_ru-2.4.417127.4579844-py2.py3-none-any.whl (8.2 MB)\n",
      "\u001b[K     |████████████████████████████████| 8.2 MB 5.8 MB/s eta 0:00:01\n",
      "\u001b[?25hCollecting dawg-python>=0.7.1\n",
      "  Downloading DAWG_Python-0.7.2-py2.py3-none-any.whl (11 kB)\n",
      "Collecting docopt>=0.6\n",
      "  Downloading docopt-0.6.2.tar.gz (25 kB)\n",
      "Building wheels for collected packages: docopt\n",
      "  Building wheel for docopt (setup.py) ... \u001b[?25ldone\n",
      "\u001b[?25h  Created wheel for docopt: filename=docopt-0.6.2-py2.py3-none-any.whl size=13724 sha256=191796ef4b5a74e501f5d0d99fb079755515fa7c82ce263bc2a5c7b564ee0e3f\n",
      "  Stored in directory: /Users/veronica/Library/Caches/pip/wheels/70/4a/46/1309fc853b8d395e60bafaf1b6df7845bdd82c95fd59dd8d2b\n",
      "Successfully built docopt\n",
      "Installing collected packages: pymorphy2-dicts-ru, docopt, dawg-python, pymorphy2\n",
      "Successfully installed dawg-python-0.7.2 docopt-0.6.2 pymorphy2-0.9.1 pymorphy2-dicts-ru-2.4.417127.4579844\n"
     ]
    }
   ],
   "source": [
    "!pip install pymorphy2"
   ]
  },
  {
   "cell_type": "code",
   "execution_count": 124,
   "id": "a2958b5a",
   "metadata": {},
   "outputs": [],
   "source": [
    "import re\n",
    "from pymorphy2 import MorphAnalyzer\n",
    "from functools import lru_cache\n",
    "from nltk.corpus import stopwords\n",
    "\n",
    "m = MorphAnalyzer()\n",
    "regex = re.compile(\"[а-яa-zёЁ]+\")\n",
    "\n",
    "def words_only(text, regex=regex):\n",
    "    try:\n",
    "        return regex.findall(text.lower())\n",
    "    except:\n",
    "        return []"
   ]
  },
  {
   "cell_type": "code",
   "execution_count": 127,
   "id": "e805d0b6",
   "metadata": {},
   "outputs": [
    {
     "data": {
      "text/plain": [
       "'И именно эти неработающие весы показывают, что работающих нет?..\\n'"
      ]
     },
     "execution_count": 127,
     "metadata": {},
     "output_type": "execute_result"
    }
   ],
   "source": [
    "train.comment[1]"
   ]
  },
  {
   "cell_type": "code",
   "execution_count": 126,
   "id": "826d2eec",
   "metadata": {
    "scrolled": true
   },
   "outputs": [
    {
     "data": {
      "text/plain": [
       "['и',\n",
       " 'именно',\n",
       " 'эти',\n",
       " 'неработающие',\n",
       " 'весы',\n",
       " 'показывают',\n",
       " 'что',\n",
       " 'работающих',\n",
       " 'нет']"
      ]
     },
     "execution_count": 126,
     "metadata": {},
     "output_type": "execute_result"
    }
   ],
   "source": [
    "words_only(train.comment[1])"
   ]
  },
  {
   "cell_type": "code",
   "execution_count": 128,
   "id": "94ac7bd8",
   "metadata": {},
   "outputs": [],
   "source": []
  },
  {
   "cell_type": "code",
   "execution_count": 130,
   "id": "96818863",
   "metadata": {},
   "outputs": [
    {
     "name": "stdout",
     "output_type": "stream",
     "text": [
      "CPU times: user 529 µs, sys: 187 µs, total: 716 µs\n",
      "Wall time: 1.48 ms\n"
     ]
    },
    {
     "data": {
      "text/plain": [
       "'неработающий'"
      ]
     },
     "execution_count": 130,
     "metadata": {},
     "output_type": "execute_result"
    }
   ],
   "source": [
    "%time lemmatize_word('неработающие')"
   ]
  },
  {
   "cell_type": "code",
   "execution_count": 136,
   "id": "d19590af",
   "metadata": {},
   "outputs": [
    {
     "name": "stdout",
     "output_type": "stream",
     "text": [
      "CPU times: user 5 µs, sys: 1 µs, total: 6 µs\n",
      "Wall time: 11 µs\n"
     ]
    },
    {
     "data": {
      "text/plain": [
       "'неработающий'"
      ]
     },
     "execution_count": 136,
     "metadata": {},
     "output_type": "execute_result"
    }
   ],
   "source": [
    "%time lemmatize_word('неработающие')"
   ]
  },
  {
   "cell_type": "code",
   "execution_count": 138,
   "id": "a7b31d6e",
   "metadata": {},
   "outputs": [
    {
     "name": "stderr",
     "output_type": "stream",
     "text": [
      "[nltk_data] Downloading package stopwords to\n",
      "[nltk_data]     /Users/veronica/nltk_data...\n",
      "[nltk_data]   Unzipping corpora/stopwords.zip.\n"
     ]
    },
    {
     "data": {
      "text/plain": [
       "True"
      ]
     },
     "execution_count": 138,
     "metadata": {},
     "output_type": "execute_result"
    }
   ],
   "source": [
    "import nltk\n",
    "nltk.download('stopwords')"
   ]
  },
  {
   "cell_type": "code",
   "execution_count": 139,
   "id": "58a2fee8",
   "metadata": {},
   "outputs": [],
   "source": [
    "@lru_cache(maxsize=128)\n",
    "def lemmatize_word(token, pymorphy=m):\n",
    "    return pymorphy.parse(token)[0].normal_form\n",
    "\n",
    "def lemmatize_text(text):\n",
    "    return [lemmatize_word(w) for w in text]\n",
    "\n",
    "\n",
    "mystopwords = stopwords.words('russian') \n",
    "def remove_stopwords(lemmas, stopwords = mystopwords):\n",
    "    return [w for w in lemmas if not w in stopwords and len(w) > 3]\n",
    "\n",
    "def clean_text(text):\n",
    "    tokens = words_only(text)\n",
    "    lemmas = lemmatize_text(tokens)\n",
    "    \n",
    "    return ' '.join(remove_stopwords(lemmas))"
   ]
  },
  {
   "cell_type": "code",
   "execution_count": 141,
   "id": "e9aa9da8",
   "metadata": {},
   "outputs": [
    {
     "data": {
      "text/plain": [
       "'И именно эти неработающие весы показывают, что работающих нет?..\\n'"
      ]
     },
     "execution_count": 141,
     "metadata": {},
     "output_type": "execute_result"
    }
   ],
   "source": [
    "train.comment[1]"
   ]
  },
  {
   "cell_type": "code",
   "execution_count": 140,
   "id": "716f4ba1",
   "metadata": {
    "scrolled": true
   },
   "outputs": [
    {
     "data": {
      "text/plain": [
       "'именно неработающий весы показывать работать'"
      ]
     },
     "execution_count": 140,
     "metadata": {},
     "output_type": "execute_result"
    }
   ],
   "source": [
    "clean_text(train.comment[1])"
   ]
  },
  {
   "cell_type": "code",
   "execution_count": 142,
   "id": "1b7459d9",
   "metadata": {},
   "outputs": [
    {
     "name": "stderr",
     "output_type": "stream",
     "text": [
      "100%|████████████████████████████████████| 10809/10809 [00:24<00:00, 437.87it/s]\n"
     ]
    },
    {
     "data": {
      "text/html": [
       "<div>\n",
       "<style scoped>\n",
       "    .dataframe tbody tr th:only-of-type {\n",
       "        vertical-align: middle;\n",
       "    }\n",
       "\n",
       "    .dataframe tbody tr th {\n",
       "        vertical-align: top;\n",
       "    }\n",
       "\n",
       "    .dataframe thead th {\n",
       "        text-align: right;\n",
       "    }\n",
       "</style>\n",
       "<table border=\"1\" class=\"dataframe\">\n",
       "  <thead>\n",
       "    <tr style=\"text-align: right;\">\n",
       "      <th></th>\n",
       "      <th>comment</th>\n",
       "      <th>toxic</th>\n",
       "      <th>lemmas</th>\n",
       "    </tr>\n",
       "  </thead>\n",
       "  <tbody>\n",
       "    <tr>\n",
       "      <th>5946</th>\n",
       "      <td>ну так лицензией это никогда и не было. Неудив...</td>\n",
       "      <td>0.0</td>\n",
       "      <td>лицензия неудивительный активироваться</td>\n",
       "    </tr>\n",
       "    <tr>\n",
       "      <th>7623</th>\n",
       "      <td>Гасят звуковую волну еще и разной толщины мате...</td>\n",
       "      <td>0.0</td>\n",
       "      <td>гасить звуковой волна разный толщина материал ...</td>\n",
       "    </tr>\n",
       "    <tr>\n",
       "      <th>9977</th>\n",
       "      <td>Не, игра Ballance круче! Хотел было найти гифк...</td>\n",
       "      <td>0.0</td>\n",
       "      <td>игра ballance крутой хотеть найти гифка падени...</td>\n",
       "    </tr>\n",
       "    <tr>\n",
       "      <th>8030</th>\n",
       "      <td>Укосины в сответствии с американскими codes вы...</td>\n",
       "      <td>0.0</td>\n",
       "      <td>укосина сответствие американский codes выполен...</td>\n",
       "    </tr>\n",
       "    <tr>\n",
       "      <th>1267</th>\n",
       "      <td>Проблема ещё и в том, что ей нужно паспорт мен...</td>\n",
       "      <td>0.0</td>\n",
       "      <td>проблема нужно паспорт менять возраст говорить...</td>\n",
       "    </tr>\n",
       "  </tbody>\n",
       "</table>\n",
       "</div>"
      ],
      "text/plain": [
       "                                                comment  toxic  \\\n",
       "5946  ну так лицензией это никогда и не было. Неудив...    0.0   \n",
       "7623  Гасят звуковую волну еще и разной толщины мате...    0.0   \n",
       "9977  Не, игра Ballance круче! Хотел было найти гифк...    0.0   \n",
       "8030  Укосины в сответствии с американскими codes вы...    0.0   \n",
       "1267  Проблема ещё и в том, что ей нужно паспорт мен...    0.0   \n",
       "\n",
       "                                                 lemmas  \n",
       "5946             лицензия неудивительный активироваться  \n",
       "7623  гасить звуковой волна разный толщина материал ...  \n",
       "9977  игра ballance крутой хотеть найти гифка падени...  \n",
       "8030  укосина сответствие американский codes выполен...  \n",
       "1267  проблема нужно паспорт менять возраст говорить...  "
      ]
     },
     "execution_count": 142,
     "metadata": {},
     "output_type": "execute_result"
    }
   ],
   "source": [
    "from tqdm import tqdm\n",
    "\n",
    "lemmas = list(tqdm(map(clean_text, train['comment']), total=len(train)))\n",
    "    \n",
    "train['lemmas'] = lemmas\n",
    "train.sample(5)"
   ]
  },
  {
   "cell_type": "code",
   "execution_count": 143,
   "id": "a3817bcc",
   "metadata": {},
   "outputs": [
    {
     "name": "stderr",
     "output_type": "stream",
     "text": [
      "100%|██████████████████████████████████████| 3603/3603 [00:08<00:00, 419.76it/s]\n"
     ]
    }
   ],
   "source": [
    "lemmas_test = list(tqdm(map(clean_text, test['comment']), total=len(test)))\n",
    "    \n",
    "test['lemmas'] = lemmas_test"
   ]
  },
  {
   "cell_type": "code",
   "execution_count": 148,
   "id": "d9866256",
   "metadata": {},
   "outputs": [
    {
     "data": {
      "text/plain": [
       "0.8245906189286706"
      ]
     },
     "execution_count": 148,
     "metadata": {},
     "output_type": "execute_result"
    }
   ],
   "source": [
    "vec = TfidfVectorizer(ngram_range=(1, 2)) # строим BoW для слов\n",
    "bow = vec.fit_transform(train['lemmas'])\n",
    "\n",
    "clf = LogisticRegression(random_state=42, max_iter=500)\n",
    "clf.fit(bow, y_train)\n",
    "\n",
    "pred = clf.predict(vec.transform(test['lemmas']))\n",
    "accuracy_score(pred, y_test['toxic'])"
   ]
  },
  {
   "cell_type": "code",
   "execution_count": 95,
   "id": "90a149d0",
   "metadata": {},
   "outputs": [],
   "source": [
    "baseline_5 = [[i, pred[i]] for i in range(len(test))]\n",
    "baseline_5 = pd.DataFrame(baseline_5, columns=['comment_id', 'toxic'])\n",
    "\n",
    "baseline_5.to_csv('baseline_5.csv', index=False)"
   ]
  },
  {
   "cell_type": "markdown",
   "id": "c7ab4b0c",
   "metadata": {},
   "source": [
    "## baseline 3: preproc + fasttext -> 6"
   ]
  },
  {
   "cell_type": "code",
   "execution_count": 34,
   "id": "a7f34ece",
   "metadata": {},
   "outputs": [],
   "source": [
    "import fasttext"
   ]
  },
  {
   "cell_type": "code",
   "execution_count": 39,
   "id": "a88b8d58",
   "metadata": {},
   "outputs": [],
   "source": [
    "with open('train_ft.txt', 'w') as f:\n",
    "    for pair in list(zip(train['lemmas'], train['toxic'])):\n",
    "        text, label = pair\n",
    "        f.write(f'__label__{label} {text.lower()}\\n')"
   ]
  },
  {
   "cell_type": "code",
   "execution_count": 41,
   "id": "7380403f",
   "metadata": {},
   "outputs": [],
   "source": [
    "with open('test_ft.txt', 'w') as f:\n",
    "    for pair in list(zip(test['lemmas'], test['toxic'])):\n",
    "        text, label = pair\n",
    "        f.write(f'__label__{label} {text.lower()}\\n')"
   ]
  },
  {
   "cell_type": "code",
   "execution_count": 99,
   "id": "941a3a02",
   "metadata": {},
   "outputs": [
    {
     "name": "stdout",
     "output_type": "stream",
     "text": [
      "P@1: 0.8739938939772411\n",
      "R@1: 0.8739938939772411\n",
      "Number of examples: 3603\n"
     ]
    }
   ],
   "source": [
    "classifier = fasttext.train_supervised('train_ft.txt')#, 'model')\n",
    "result = classifier.test('test_ft.txt')\n",
    "print('P@1:', result[1])#.precision)\n",
    "print('R@1:', result[2])#.recall)\n",
    "print('Number of examples:', result[0])#.nexamples)"
   ]
  },
  {
   "cell_type": "code",
   "execution_count": 100,
   "id": "45b6b5bc",
   "metadata": {},
   "outputs": [
    {
     "data": {
      "text/plain": [
       "0.8739938939772411"
      ]
     },
     "execution_count": 100,
     "metadata": {},
     "output_type": "execute_result"
    }
   ],
   "source": [
    "pred = classifier.predict(list(test['lemmas']))[0]\n",
    "pred = [int(label[0][-1]) for label in pred]\n",
    "\n",
    "accuracy_score(list(y_test), pred)"
   ]
  },
  {
   "cell_type": "code",
   "execution_count": 101,
   "id": "82b8cc2c",
   "metadata": {},
   "outputs": [],
   "source": [
    "baseline_6 = [[i, pred[i]] for i in range(len(test))]\n",
    "baseline_6 = pd.DataFrame(baseline_6, columns=['comment_id', 'toxic'])\n",
    "\n",
    "baseline_6.to_csv('baseline_6.csv', index=False)"
   ]
  }
 ],
 "metadata": {
  "kernelspec": {
   "display_name": "Python 3 (ipykernel)",
   "language": "python",
   "name": "python3"
  },
  "language_info": {
   "codemirror_mode": {
    "name": "ipython",
    "version": 3
   },
   "file_extension": ".py",
   "mimetype": "text/x-python",
   "name": "python",
   "nbconvert_exporter": "python",
   "pygments_lexer": "ipython3",
   "version": "3.9.7"
  }
 },
 "nbformat": 4,
 "nbformat_minor": 5
}
